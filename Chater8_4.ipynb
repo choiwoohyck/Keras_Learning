{
  "nbformat": 4,
  "nbformat_minor": 0,
  "metadata": {
    "colab": {
      "name": "Chater8_4.ipynb",
      "provenance": [],
      "authorship_tag": "ABX9TyN1eJY0PM13Rp+13JCMTCiz"
    },
    "kernelspec": {
      "name": "python3",
      "display_name": "Python 3"
    }
  },
  "cells": [
    {
      "cell_type": "code",
      "metadata": {
        "id": "58FHrDvSyN-3"
      },
      "source": [
        "import keras\r\n",
        "from keras import layers\r\n",
        "from keras import backend as K\r\n",
        "from keras.models import Model\r\n",
        "import numpy as np\r\n",
        "\r\n",
        "img_shape = (28, 28, 1)\r\n",
        "batch_size = 16\r\n",
        "latent_dim = 2  # 잠재 공간의 차원: 2D 평면\r\n",
        "\r\n",
        "input_img = keras.Input(shape=img_shape)\r\n",
        "\r\n",
        "x = layers.Conv2D(32, 3,\r\n",
        "                  padding='same', activation='relu')(input_img)\r\n",
        "x = layers.Conv2D(64, 3,\r\n",
        "                  padding='same', activation='relu',\r\n",
        "                  strides=(2, 2))(x)\r\n",
        "x = layers.Conv2D(64, 3,\r\n",
        "                  padding='same', activation='relu')(x)\r\n",
        "x = layers.Conv2D(64, 3,\r\n",
        "                  padding='same', activation='relu')(x)\r\n",
        "shape_before_flattening = K.int_shape(x)\r\n",
        "\r\n",
        "x = layers.Flatten()(x)\r\n",
        "x = layers.Dense(32, activation='relu')(x)\r\n",
        "\r\n",
        "z_mean = layers.Dense(latent_dim)(x)\r\n",
        "z_log_var = layers.Dense(latent_dim)(x)"
      ],
      "execution_count": 18,
      "outputs": []
    },
    {
      "cell_type": "code",
      "metadata": {
        "id": "T9zv0kX6yOc6"
      },
      "source": [
        "def sampling(args):\r\n",
        "    z_mean, z_log_var = args\r\n",
        "    epsilon = K.random_normal(shape=(K.shape(z_mean)[0], latent_dim),\r\n",
        "                              mean=0., stddev=1.)\r\n",
        "    return z_mean + K.exp(z_log_var) * epsilon\r\n",
        "\r\n",
        "z = layers.Lambda(sampling)([z_mean, z_log_var])"
      ],
      "execution_count": 19,
      "outputs": []
    },
    {
      "cell_type": "code",
      "metadata": {
        "id": "DbrA6yJ_yWkW"
      },
      "source": [
        "decoder_input = layers.Input(K.int_shape(z)[1:])\r\n",
        "\r\n",
        "x = layers.Dense(np.prod(shape_before_flattening[1:]),\r\n",
        "                 activation='relu')(decoder_input)\r\n",
        "\r\n",
        "x = layers.Reshape(shape_before_flattening[1:])(x)\r\n",
        "\r\n",
        "x = layers.Conv2DTranspose(32, 3,\r\n",
        "                           padding='same', activation='relu',\r\n",
        "                           strides=(2, 2))(x)\r\n",
        "x = layers.Conv2D(1, 3,\r\n",
        "                  padding='same', activation='sigmoid')(x)\r\n",
        "decoder = Model(decoder_input, x)\r\n",
        "\r\n",
        "z_decoded = decoder(z)"
      ],
      "execution_count": 20,
      "outputs": []
    },
    {
      "cell_type": "code",
      "metadata": {
        "id": "0jhw8lEbyd1Q"
      },
      "source": [
        "class CustomVariationalLayer(keras.layers.Layer):\r\n",
        "\r\n",
        "    def vae_loss(self, x, z_decoded):\r\n",
        "        x = K.flatten(x)\r\n",
        "        z_decoded = K.flatten(z_decoded)\r\n",
        "        xent_loss = keras.metrics.binary_crossentropy(x, z_decoded)\r\n",
        "        kl_loss = -5e-4 * K.mean(\r\n",
        "            1 + z_log_var - K.square(z_mean) - K.exp(z_log_var), axis=-1)\r\n",
        "        return K.mean(xent_loss + kl_loss)\r\n",
        "\r\n",
        "    def call(self, inputs):\r\n",
        "        x = inputs[0]\r\n",
        "        z_decoded = inputs[1]\r\n",
        "        loss = self.vae_loss(x, z_decoded)\r\n",
        "        self.add_loss(loss, inputs=inputs)\r\n",
        "        return x\r\n",
        "y = CustomVariationalLayer()([input_img, z_decoded])"
      ],
      "execution_count": 21,
      "outputs": []
    },
    {
      "cell_type": "code",
      "metadata": {
        "id": "uVn_31TNygJA"
      },
      "source": [
        "from keras.datasets import mnist\r\n",
        "\r\n",
        "vae = Model(input_img, y)\r\n",
        "vae.compile(optimizer='rmsprop', loss=None)\r\n",
        "vae.summary()\r\n",
        "\r\n",
        "(x_train, _), (x_test, y_test) = mnist.load_data()\r\n",
        "\r\n",
        "x_train = x_train.astype('float32') / 255.\r\n",
        "x_train = x_train.reshape(x_train.shape + (1,))\r\n",
        "x_test = x_test.astype('float32') / 255.\r\n",
        "x_test = x_test.reshape(x_test.shape + (1,))\r\n",
        "\r\n",
        "vae.fit(x=x_train, y=None,\r\n",
        "        shuffle=True,\r\n",
        "        epochs=10,\r\n",
        "        batch_size=batch_size,\r\n",
        "        validation_data=(x_test, None))"
      ],
      "execution_count": null,
      "outputs": []
    },
    {
      "cell_type": "code",
      "metadata": {
        "id": "SpGpm9HmylWX"
      },
      "source": [
        "import matplotlib.pyplot as plt\r\n",
        "from scipy.stats import norm\r\n",
        "\r\n",
        "\r\n",
        "n = 15  \r\n",
        "digit_size = 28\r\n",
        "figure = np.zeros((digit_size * n, digit_size * n))\r\n",
        "\r\n",
        "grid_x = norm.ppf(np.linspace(0.05, 0.95, n))\r\n",
        "grid_y = norm.ppf(np.linspace(0.05, 0.95, n))\r\n",
        "\r\n",
        "for i, yi in enumerate(grid_x):\r\n",
        "    for j, xi in enumerate(grid_y):\r\n",
        "        z_sample = np.array([[xi, yi]])\r\n",
        "        z_sample = np.tile(z_sample, batch_size).reshape(batch_size, 2)\r\n",
        "        x_decoded = decoder.predict(z_sample, batch_size=batch_size)\r\n",
        "        digit = x_decoded[0].reshape(digit_size, digit_size)\r\n",
        "        figure[i * digit_size: (i + 1) * digit_size,\r\n",
        "               j * digit_size: (j + 1) * digit_size] = digit\r\n",
        "\r\n",
        "plt.figure(figsize=(10, 10))\r\n",
        "plt.imshow(figure, cmap='Greys_r')\r\n",
        "plt.show()"
      ],
      "execution_count": null,
      "outputs": []
    }
  ]
}