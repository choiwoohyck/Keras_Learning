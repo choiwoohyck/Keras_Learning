{
 "cells": [
  {
   "cell_type": "code",
   "execution_count": 1,
   "metadata": {},
   "outputs": [
    {
     "name": "stdout",
     "output_type": "stream",
     "text": [
      "Model: \"vgg16\"\n",
      "_________________________________________________________________\n",
      "Layer (type)                 Output Shape              Param #   \n",
      "=================================================================\n",
      "input_1 (InputLayer)         [(None, 150, 150, 3)]     0         \n",
      "_________________________________________________________________\n",
      "block1_conv1 (Conv2D)        (None, 150, 150, 64)      1792      \n",
      "_________________________________________________________________\n",
      "block1_conv2 (Conv2D)        (None, 150, 150, 64)      36928     \n",
      "_________________________________________________________________\n",
      "block1_pool (MaxPooling2D)   (None, 75, 75, 64)        0         \n",
      "_________________________________________________________________\n",
      "block2_conv1 (Conv2D)        (None, 75, 75, 128)       73856     \n",
      "_________________________________________________________________\n",
      "block2_conv2 (Conv2D)        (None, 75, 75, 128)       147584    \n",
      "_________________________________________________________________\n",
      "block2_pool (MaxPooling2D)   (None, 37, 37, 128)       0         \n",
      "_________________________________________________________________\n",
      "block3_conv1 (Conv2D)        (None, 37, 37, 256)       295168    \n",
      "_________________________________________________________________\n",
      "block3_conv2 (Conv2D)        (None, 37, 37, 256)       590080    \n",
      "_________________________________________________________________\n",
      "block3_conv3 (Conv2D)        (None, 37, 37, 256)       590080    \n",
      "_________________________________________________________________\n",
      "block3_pool (MaxPooling2D)   (None, 18, 18, 256)       0         \n",
      "_________________________________________________________________\n",
      "block4_conv1 (Conv2D)        (None, 18, 18, 512)       1180160   \n",
      "_________________________________________________________________\n",
      "block4_conv2 (Conv2D)        (None, 18, 18, 512)       2359808   \n",
      "_________________________________________________________________\n",
      "block4_conv3 (Conv2D)        (None, 18, 18, 512)       2359808   \n",
      "_________________________________________________________________\n",
      "block4_pool (MaxPooling2D)   (None, 9, 9, 512)         0         \n",
      "_________________________________________________________________\n",
      "block5_conv1 (Conv2D)        (None, 9, 9, 512)         2359808   \n",
      "_________________________________________________________________\n",
      "block5_conv2 (Conv2D)        (None, 9, 9, 512)         2359808   \n",
      "_________________________________________________________________\n",
      "block5_conv3 (Conv2D)        (None, 9, 9, 512)         2359808   \n",
      "_________________________________________________________________\n",
      "block5_pool (MaxPooling2D)   (None, 4, 4, 512)         0         \n",
      "=================================================================\n",
      "Total params: 14,714,688\n",
      "Trainable params: 14,714,688\n",
      "Non-trainable params: 0\n",
      "_________________________________________________________________\n"
     ]
    }
   ],
   "source": [
    "from keras.applications import VGG16\n",
    "\n",
    "conv_base = VGG16(weights='imagenet',include_top=False,input_shape=(150,150,3))\n",
    "conv_base.summary()"
   ]
  },
  {
   "cell_type": "code",
   "execution_count": 2,
   "metadata": {},
   "outputs": [
    {
     "name": "stdout",
     "output_type": "stream",
     "text": [
      "Found 2000 images belonging to 2 classes.\n",
      "Found 1000 images belonging to 2 classes.\n",
      "Found 1000 images belonging to 2 classes.\n"
     ]
    }
   ],
   "source": [
    "import os\n",
    "import numpy as np\n",
    "from keras_preprocessing.image import ImageDataGenerator\n",
    "\n",
    "base_dir = './datasets/cats_and_dogs_small'\n",
    "train_dir = os.path.join(base_dir,'train')\n",
    "validation_dir = os.path.join(base_dir,'validation')\n",
    "test_dir = os.path.join(base_dir,'test')\n",
    "\n",
    "datagen = ImageDataGenerator(rescale=1./255)\n",
    "batch_size = 20\n",
    "\n",
    "def extract_features(directory, sample_count):\n",
    "    features = np.zeros(shape=(sample_count,4 ,4 ,512))\n",
    "    labels = np.zeros(shape=(sample_count))\n",
    "    generator = datagen.flow_from_directory(\n",
    "        directory,\n",
    "        target_size = (150, 150),\n",
    "        batch_size = batch_size,\n",
    "        class_mode = 'binary')\n",
    "    i = 0\n",
    "    for inputs_batch, labels_batch in generator:\n",
    "        features_batch = conv_base.predict(inputs_batch)\n",
    "        features[i * batch_size : (i + 1) * batch_size] = features_batch\n",
    "        labels[i * batch_size : (i + 1) * batch_size] = labels_batch\n",
    "        i += 1\n",
    "        if i * batch_size >= sample_count:\n",
    "            break\n",
    "    return features,labels\n",
    "train_features, train_labels= extract_features(train_dir , 2000)\n",
    "validation_features, validation_labels = extract_features(validation_dir, 1000)\n",
    "test_features, test_labels = extract_features(test_dir,1000)"
   ]
  },
  {
   "cell_type": "code",
   "execution_count": 3,
   "metadata": {},
   "outputs": [],
   "source": [
    "train_features = np.reshape(train_features, (2000, 4 *4 * 512))\n",
    "validation_features = np.reshape(validation_features, (1000, 4 *4 * 512))\n",
    "test_features = np.reshape(test_features, (1000, 4 *4 * 512))"
   ]
  },
  {
   "cell_type": "code",
   "execution_count": 4,
   "metadata": {},
   "outputs": [
    {
     "name": "stdout",
     "output_type": "stream",
     "text": [
      "Epoch 1/30\n",
      "100/100 [==============================] - 4s 41ms/step - loss: 0.6277 - acc: 0.6480 - val_loss: 0.4411 - val_acc: 0.8450\n",
      "Epoch 2/30\n",
      "100/100 [==============================] - 4s 42ms/step - loss: 0.4344 - acc: 0.8015 - val_loss: 0.3625 - val_acc: 0.8780\n",
      "Epoch 3/30\n",
      "100/100 [==============================] - 4s 40ms/step - loss: 0.3650 - acc: 0.8370 - val_loss: 0.3239 - val_acc: 0.8850\n",
      "Epoch 4/30\n",
      "100/100 [==============================] - 4s 42ms/step - loss: 0.3155 - acc: 0.8675 - val_loss: 0.3008 - val_acc: 0.8830\n",
      "Epoch 5/30\n",
      "100/100 [==============================] - 4s 39ms/step - loss: 0.2902 - acc: 0.8815 - val_loss: 0.2870 - val_acc: 0.8850\n",
      "Epoch 6/30\n",
      "100/100 [==============================] - 4s 39ms/step - loss: 0.2629 - acc: 0.8980 - val_loss: 0.2779 - val_acc: 0.8870\n",
      "Epoch 7/30\n",
      "100/100 [==============================] - 4s 40ms/step - loss: 0.2547 - acc: 0.9025 - val_loss: 0.2684 - val_acc: 0.8900\n",
      "Epoch 8/30\n",
      "100/100 [==============================] - 4s 39ms/step - loss: 0.2305 - acc: 0.9120 - val_loss: 0.2649 - val_acc: 0.8980\n",
      "Epoch 9/30\n",
      "100/100 [==============================] - 4s 39ms/step - loss: 0.2203 - acc: 0.9140 - val_loss: 0.2555 - val_acc: 0.8990\n",
      "Epoch 10/30\n",
      "100/100 [==============================] - 4s 39ms/step - loss: 0.2092 - acc: 0.9200 - val_loss: 0.2585 - val_acc: 0.8950\n",
      "Epoch 11/30\n",
      "100/100 [==============================] - 4s 39ms/step - loss: 0.2014 - acc: 0.9185 - val_loss: 0.2479 - val_acc: 0.9040\n",
      "Epoch 12/30\n",
      "100/100 [==============================] - 4s 41ms/step - loss: 0.1904 - acc: 0.9320 - val_loss: 0.2532 - val_acc: 0.8960\n",
      "Epoch 13/30\n",
      "100/100 [==============================] - 5s 46ms/step - loss: 0.1802 - acc: 0.9340 - val_loss: 0.2423 - val_acc: 0.9070\n",
      "Epoch 14/30\n",
      "100/100 [==============================] - 4s 44ms/step - loss: 0.1739 - acc: 0.9370 - val_loss: 0.2449 - val_acc: 0.9030\n",
      "Epoch 15/30\n",
      "100/100 [==============================] - 5s 46ms/step - loss: 0.1605 - acc: 0.9450 - val_loss: 0.2386 - val_acc: 0.9050\n",
      "Epoch 16/30\n",
      "100/100 [==============================] - 4s 45ms/step - loss: 0.1591 - acc: 0.9430 - val_loss: 0.2455 - val_acc: 0.9020\n",
      "Epoch 17/30\n",
      "100/100 [==============================] - 5s 45ms/step - loss: 0.1537 - acc: 0.9430 - val_loss: 0.2505 - val_acc: 0.8960\n",
      "Epoch 18/30\n",
      "100/100 [==============================] - 4s 43ms/step - loss: 0.1416 - acc: 0.9505 - val_loss: 0.2362 - val_acc: 0.9060\n",
      "Epoch 19/30\n",
      "100/100 [==============================] - 4s 43ms/step - loss: 0.1398 - acc: 0.9495 - val_loss: 0.2442 - val_acc: 0.9010\n",
      "Epoch 20/30\n",
      "100/100 [==============================] - 4s 43ms/step - loss: 0.1353 - acc: 0.9555 - val_loss: 0.2361 - val_acc: 0.9050\n",
      "Epoch 21/30\n",
      "100/100 [==============================] - 4s 45ms/step - loss: 0.1251 - acc: 0.9560 - val_loss: 0.2389 - val_acc: 0.9030\n",
      "Epoch 22/30\n",
      "100/100 [==============================] - 4s 43ms/step - loss: 0.1276 - acc: 0.9590 - val_loss: 0.2454 - val_acc: 0.9000\n",
      "Epoch 23/30\n",
      "100/100 [==============================] - 4s 42ms/step - loss: 0.1126 - acc: 0.9645 - val_loss: 0.2398 - val_acc: 0.9040\n",
      "Epoch 24/30\n",
      "100/100 [==============================] - 4s 42ms/step - loss: 0.1177 - acc: 0.9590 - val_loss: 0.2366 - val_acc: 0.9050\n",
      "Epoch 25/30\n",
      "100/100 [==============================] - 4s 43ms/step - loss: 0.1120 - acc: 0.9660 - val_loss: 0.2378 - val_acc: 0.9050\n",
      "Epoch 26/30\n",
      "100/100 [==============================] - 4s 42ms/step - loss: 0.1043 - acc: 0.9665 - val_loss: 0.2396 - val_acc: 0.9040\n",
      "Epoch 27/30\n",
      "100/100 [==============================] - 4s 43ms/step - loss: 0.1042 - acc: 0.9665 - val_loss: 0.2428 - val_acc: 0.9050\n",
      "Epoch 28/30\n",
      "100/100 [==============================] - 4s 42ms/step - loss: 0.1036 - acc: 0.9675 - val_loss: 0.2409 - val_acc: 0.9030\n",
      "Epoch 29/30\n",
      "100/100 [==============================] - 4s 43ms/step - loss: 0.0989 - acc: 0.9690 - val_loss: 0.2432 - val_acc: 0.9060\n",
      "Epoch 30/30\n",
      "100/100 [==============================] - 4s 43ms/step - loss: 0.0897 - acc: 0.9755 - val_loss: 0.2436 - val_acc: 0.9050\n"
     ]
    }
   ],
   "source": [
    "from keras import models\n",
    "from keras import layers\n",
    "from keras import optimizers\n",
    "\n",
    "model = models.Sequential()\n",
    "model.add(layers.Dense(256,activation='relu',input_dim =4*4*512))\n",
    "model.add(layers.Dropout(0.5))\n",
    "model.add(layers.Dense(1, activation='sigmoid'))\n",
    "model.compile(optimizer=optimizers.RMSprop(lr=2e-5),loss='binary_crossentropy',metrics=['acc'])\n",
    "\n",
    "history = model.fit(train_features,train_labels,epochs=30,batch_size=20,\n",
    "                     validation_data=(validation_features,validation_labels))"
   ]
  },
  {
   "cell_type": "code",
   "execution_count": 5,
   "metadata": {},
   "outputs": [
    {
     "data": {
      "image/png": "[encoded data removed]",
      "text/plain": [
       "<Figure size 432x288 with 1 Axes>"
      ]
     },
     "metadata": {
      "needs_background": "light"
     },
     "output_type": "display_data"
    },
    {
     "data": {
      "image/png": "[encoded data removed]",
      "text/plain": [
       "<Figure size 432x288 with 1 Axes>"
      ]
     },
     "metadata": {
      "needs_background": "light"
     },
     "output_type": "display_data"
    }
   ],
   "source": [
    "import matplotlib.pyplot as plt\n",
    "\n",
    "acc = history.history['acc']\n",
    "val_acc = history.history['val_acc']\n",
    "loss = history.history['loss']\n",
    "val_loss = history.history['val_loss']\n",
    "\n",
    "epochs = range(1, len(acc) + 1)\n",
    "\n",
    "plt.plot(epochs, acc, 'bo', label='Training acc')\n",
    "plt.plot(epochs, val_acc, 'b', label='Validation acc')\n",
    "plt.title('Training and validation accuracy')\n",
    "plt.legend()\n",
    "\n",
    "plt.figure()\n",
    "\n",
    "plt.plot(epochs, loss, 'bo', label='Training loss')\n",
    "plt.plot(epochs, val_loss, 'b', label='Valdation loss')\n",
    "plt.title('Training and validation loss')\n",
    "plt.legend()\n",
    "\n",
    "plt.show()"
   ]
  },
  {
   "cell_type": "code",
   "execution_count": 6,
   "metadata": {},
   "outputs": [
    {
     "name": "stdout",
     "output_type": "stream",
     "text": [
      "Model: \"sequential_1\"\n",
      "_________________________________________________________________\n",
      "Layer (type)                 Output Shape              Param #   \n",
      "=================================================================\n",
      "vgg16 (Functional)           (None, 4, 4, 512)         14714688  \n",
      "_________________________________________________________________\n",
      "flatten (Flatten)            (None, 8192)              0         \n",
      "_________________________________________________________________\n",
      "dense_2 (Dense)              (None, 256)               2097408   \n",
      "_________________________________________________________________\n",
      "dense_3 (Dense)              (None, 1)                 257       \n",
      "=================================================================\n",
      "Total params: 16,812,353\n",
      "Trainable params: 16,812,353\n",
      "Non-trainable params: 0\n",
      "_________________________________________________________________\n"
     ]
    }
   ],
   "source": [
    "from keras import models\n",
    "from keras import layers\n",
    "\n",
    "model = models.Sequential()\n",
    "model.add(conv_base)\n",
    "model.add(layers.Flatten())\n",
    "model.add(layers.Dense(256,activation ='relu'))\n",
    "model.add(layers.Dense(1,activation ='sigmoid'))\n",
    "\n",
    "model.summary()"
   ]
  },
  {
   "cell_type": "code",
   "execution_count": null,
   "metadata": {},
   "outputs": [
    {
     "name": "stdout",
     "output_type": "stream",
     "text": [
      "Found 2000 images belonging to 2 classes.\n",
      "Found 1000 images belonging to 2 classes.\n",
      "Epoch 1/30\n"
     ]
    }
   ],
   "source": [
    "from keras.preprocessing.image import ImageDataGenerator\n",
    "from keras import optimizers\n",
    "\n",
    "train_datagen = ImageDataGenerator(rescale=1./255,rotation_range=20,width_shift_range=0.1,height_shift_range=0.1,\n",
    "                                  shear_range=0.1,zoom_range=0.1,horizontal_flip=True,fill_mode='nearest')\n",
    "\n",
    "test_datagen = ImageDataGenerator(rescale=1./255)\n",
    "\n",
    "train_generator = train_datagen.flow_from_directory(\n",
    "    train_dir,\n",
    "    target_size=(150, 150),\n",
    "    batch_size=20,\n",
    "    class_mode='binary')\n",
    "\n",
    "validation_generator = test_datagen.flow_from_directory(\n",
    "    validation_dir,\n",
    "    target_size=(150, 150),\n",
    "    batch_size=20,\n",
    "    class_mode='binary')\n",
    "\n",
    "model.compile(loss='binary_crossentropy',\n",
    "             optimizer=optimizers.RMSprop(lr=2e-5),\n",
    "             metrics=['acc'])\n",
    "\n",
    "history = model.fit(train_generator,steps_per_epoch=100,epochs=30,validation_data=validation_generator,\n",
    "                   validation_steps=50,verbose=2)"
   ]
  },
  {
   "cell_type": "code",
   "execution_count": null,
   "metadata": {},
   "outputs": [],
   "source": [
    "conv_base.trainable = True\n",
    "\n",
    "set_trainable = False\n",
    "for layer in  con_base.layers:\n",
    "    if layer.name == 'block5_conv1':\n",
    "        set_trainable = True\n",
    "    if set_trainable = True:\n",
    "        layer.trainable = True\n",
    "    else:\n",
    "        layer.trainable = False`"
   ]
  },
  {
   "cell_type": "code",
   "execution_count": null,
   "metadata": {},
   "outputs": [],
   "source": [
    "model.compile(loss='binary_crossentropy',\n",
    "             optimizer=optimizers.RMSprop(lr=1e-5),\n",
    "             metrics=['acc'])\n",
    "history = model.fit(train_generator,steps_per_epoch=100,epochs=100,validation_data=validation_generator,\n",
    "                   validation_steps=50)"
   ]
  },
  {
   "cell_type": "code",
   "execution_count": null,
   "metadata": {},
   "outputs": [],
   "source": [
    "def smooth_curve(points, factor=0.8):\n",
    "    smoothed_points = []\n",
    "    for point in points:\n",
    "        if smoothed_points:\n",
    "            previous = smoothed_points[-1]\n",
    "            smoothed_points.append(previous * factor + point * (1 - factor))\n",
    "        else:\n",
    "            smoothed_points.append(point)\n",
    "        return smoothed_points\n",
    "    \n",
    "    plt.plot(epochs,smooth_curve(acc),'bo' , labels ='Smoothed training acc')\n",
    "    plt.plot(epochs,smooth_curve(val_acc),'bo' , labels ='Smoothed validation acc')\n",
    "    plt.title('Training and validation accuracy')\n",
    "    plt.legend()\n",
    "    \n",
    "    plt.figure()\n",
    "    \n",
    "    plt.plot(epochs,smooth_curve(loss),'bo', label='Smoothed trainig loss')\n",
    "    plt.plot(epochs, smooth_curve(val_loss), 'b', label='Smoothed validation loss')\n",
    "    plt.title('Training a')"
   ]
  }
 ],
 "metadata": {
  "kernelspec": {
   "display_name": "Python 3",
   "language": "python",
   "name": "python3"
  },
  "language_info": {
   "codemirror_mode": {
    "name": "ipython",
    "version": 3
   },
   "file_extension": ".py",
   "mimetype": "text/x-python",
   "name": "python",
   "nbconvert_exporter": "python",
   "pygments_lexer": "ipython3",
   "version": "3.7.6"
  }
 },
 "nbformat": 4,
 "nbformat_minor": 4
}
