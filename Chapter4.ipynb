{
  "nbformat": 4,
  "nbformat_minor": 0,
  "metadata": {
    "colab": {
      "name": "Chapter4.ipynb",
      "provenance": [],
      "authorship_tag": "ABX9TyNTsoQj91Ilw6IRd7yuAwyc",
      "include_colab_link": true
    },
    "kernelspec": {
      "name": "python3",
      "display_name": "Python 3"
    }
  },
  "cells": [
    {
      "cell_type": "markdown",
      "metadata": {
        "id": "view-in-github",
        "colab_type": "text"
      },
      "source": [
        "<a href=\"https://colab.research.google.com/github/choiwoohyck/Keras_Learning/blob/master/Chapter4.ipynb\" target=\"_parent\"><img src=\"https://colab.research.google.com/assets/colab-badge.svg\" alt=\"Open In Colab\"/></a>"
      ]
    },
    {
      "cell_type": "code",
      "metadata": {
        "id": "bCYbrxkwP7kf",
        "outputId": "46c27701-fa2d-4d06-8b95-e779dcc3a27d",
        "colab": {
          "base_uri": "https://localhost:8080/"
        }
      },
      "source": [
        "from keras.datasets import boston_housing\n",
        "\n",
        "(train_data, train_targets), (test_data, test_targets) = boston_housing.load_data()\n",
        "\n",
        "print(train_data.shape,test_data.shape)\n",
        "print(train_targets.shape,test_targets.shape)\n",
        "print(type(train_data))"
      ],
      "execution_count": null,
      "outputs": [
        {
          "output_type": "stream",
          "text": [
            "(404, 13) (102, 13)\n",
            "(404,) (102,)\n",
            "<class 'numpy.ndarray'>\n"
          ],
          "name": "stdout"
        }
      ]
    },
    {
      "cell_type": "code",
      "metadata": {
        "id": "hcbtUGASSGhU",
        "outputId": "2bce18c8-59bf-4965-f94f-ba912eb95fdf",
        "colab": {
          "base_uri": "https://localhost:8080/"
        }
      },
      "source": [
        "mean = train_data.mean(axis=0)\n",
        "train_data -= mean\n",
        "std = train_data.std(axis=0)\n",
        "train_data /= std\n",
        "\n",
        "test_data -= mean\n",
        "test_data /= std\n",
        "print(test_data[0])"
      ],
      "execution_count": null,
      "outputs": [
        {
          "output_type": "stream",
          "text": [
            "[ 1.55369355 -0.48361547  1.0283258  -0.25683275  1.03838067  0.23545815\n",
            "  1.11048828 -0.93976936  1.67588577  1.5652875   0.78447637 -3.48459553\n",
            "  2.25092074]\n"
          ],
          "name": "stdout"
        }
      ]
    },
    {
      "cell_type": "code",
      "metadata": {
        "id": "4VP6yyfRSy7d"
      },
      "source": [
        "from keras import models\n",
        "from keras import layers\n",
        "import tensorflow as tf\n",
        "\n",
        "\n",
        "from tensorflow.keras.layers import Input, Dense\n",
        "from tensorflow.keras.models import Model\n",
        "\n",
        "def build_model():\n",
        "  inputs = Input(shape=(13,))\n",
        "  hidden1 = Dense(64, activation='relu')(inputs)\n",
        "  hidden2 = Dense(64, activation='relu')(hidden1)\n",
        "  output = Dense(1)(hidden2)\n",
        "  model = Model(inputs=inputs, outputs=output)  \n",
        "  model.compile(optimizer='rmsprop',loss='mse',metrics='mae')\n",
        "  return model\n",
        "\n"
      ],
      "execution_count": null,
      "outputs": []
    },
    {
      "cell_type": "code",
      "metadata": {
        "id": "fQrTUrMXaUU4",
        "outputId": "7e799b57-49d8-4fc8-9d2c-3a6e3c9f9100",
        "colab": {
          "base_uri": "https://localhost:8080/"
        }
      },
      "source": [
        "(train_data, train_targets), (test_data, test_targets) = boston_housing.load_data()\n",
        "\n",
        "num_train_samples = 323 # 404*0.8\n",
        "\n",
        "validation_data = train_data[num_train_samples:]\n",
        "validation_targets = train_targets[num_train_samples:]\n",
        "\n",
        "train_data = train_data[:num_train_samples]\n",
        "train_targets = train_targets[:num_train_samples]\n",
        "\n",
        "model = build_model()\n",
        "model.fit(train_data, train_targets,\n",
        "          epochs=100, batch_size=16, verbose=0,shuffle=True)\n",
        "validation_score = model.evaluate(validation_data, validation_targets)\n",
        "\n",
        "model = build_model()\n",
        "model.fit(np.concatenate([train_data,validation_data]), np.concatenate([train_targets,validation_targets]),\n",
        "          epochs=80, batch_size=16, verbose=0,shuffle=True)\n",
        "validation_score = model.evaluate(test_data, test_targets)"
      ],
      "execution_count": null,
      "outputs": [
        {
          "output_type": "stream",
          "text": [
            "3/3 [==============================] - 0s 2ms/step - loss: 110.3148 - mae: 9.2677\n",
            "4/4 [==============================] - 0s 2ms/step - loss: 34.0183 - mae: 3.9931\n"
          ],
          "name": "stdout"
        }
      ]
    },
    {
      "cell_type": "code",
      "metadata": {
        "id": "nOw4A5YUdAvJ",
        "outputId": "c5df75b5-b0c6-4713-b184-0dff72db9771",
        "colab": {
          "base_uri": "https://localhost:8080/"
        }
      },
      "source": [
        "from sklearn.model_selection import train_test_split\n",
        "\n",
        "(train_data, train_targets), (test_data, test_targets) = boston_housing.load_data()\n",
        "\n",
        "# train_test_split\n",
        "train_data, validation_data,train_targets, validation_targets = train_test_split(train_data, train_targets, test_size=0.2, shuffle=True, random_state=1)\n",
        "\n",
        "model = build_model()\n",
        "model.fit(train_data, train_targets,\n",
        "          epochs=80, batch_size=16, verbose=0,shuffle=False)\n",
        "validation_score = model.evaluate(validation_data, validation_targets)\n",
        "\n",
        "model = build_model()\n",
        "model.fit(np.concatenate([train_data,validation_data]), np.concatenate([train_targets,validation_targets]),\n",
        "          epochs=80, batch_size=16, verbose=0,shuffle=False)\n",
        "validation_score = model.evaluate(test_data, test_targets)\n",
        "\n",
        "train_data, validation_data,train_targets, validation_targets = train_test_split(train_data, train_targets, test_size=0.2, shuffle=True, random_state=2)\n",
        "\n",
        "model = build_model()\n",
        "model.fit(train_data, train_targets,\n",
        "          epochs=80, batch_size=16, verbose=0,shuffle=False)\n",
        "validation_score = model.evaluate(validation_data, validation_targets)\n",
        "\n",
        "model = build_model()\n",
        "model.fit(np.concatenate([train_data,validation_data]), np.concatenate([train_targets,validation_targets]),\n",
        "          epochs=80, batch_size=16, verbose=0,shuffle=False)\n",
        "validation_score = model.evaluate(test_data, test_targets)"
      ],
      "execution_count": null,
      "outputs": [
        {
          "output_type": "stream",
          "text": [
            "3/3 [==============================] - 0s 2ms/step - loss: 50.4494 - mae: 5.4014\n",
            "4/4 [==============================] - 0s 2ms/step - loss: 40.4545 - mae: 4.5059\n",
            "3/3 [==============================] - 0s 2ms/step - loss: 51.6355 - mae: 4.4823\n",
            "4/4 [==============================] - 0s 1ms/step - loss: 49.5434 - mae: 5.2378\n"
          ],
          "name": "stdout"
        }
      ]
    },
    {
      "cell_type": "code",
      "metadata": {
        "id": "2cflzihyTxTO",
        "outputId": "52b273da-5fbc-4fdd-85a1-ca1bbbee7705",
        "colab": {
          "base_uri": "https://localhost:8080/"
        }
      },
      "source": [
        "import numpy as np\n",
        "\n",
        "(train_data, train_targets), (test_data, test_targets) = boston_housing.load_data()\n",
        "\n",
        "k = 4\n",
        "num_val_samples = len(train_data) // k\n",
        "num_epochs = 80\n",
        "all_scores = []\n",
        "for i in range(k):\n",
        "    print('처리중인 폴드 #', i)\n",
        "    # 검증 데이터 준비: k번째 분할\n",
        "    val_data = train_data[i * num_val_samples: (i + 1) * num_val_samples]\n",
        "    val_targets = train_targets[i * num_val_samples: (i + 1) * num_val_samples]\n",
        "\n",
        "    # 훈련 데이터 준비: 다른 분할 전체\n",
        "    partial_train_data = np.concatenate(\n",
        "        [train_data[:i * num_val_samples],\n",
        "         train_data[(i + 1) * num_val_samples:]],\n",
        "        axis=0)\n",
        "    partial_train_targets = np.concatenate(\n",
        "        [train_targets[:i * num_val_samples],\n",
        "         train_targets[(i + 1) * num_val_samples:]],\n",
        "        axis=0)\n",
        "\n",
        "    # 케라스 모델 구성(컴파일 포함)\n",
        "    model = build_model()\n",
        "    # 모델 훈련(verbose=0 이므로 훈련 과정이 출력되지 않습니다)\n",
        "    model.fit(partial_train_data, partial_train_targets,\n",
        "              epochs=num_epochs, batch_size=1, verbose=0, shuffle = False)\n",
        "    # 검증 세트로 모델 평가\n",
        "    val_mse, val_mae = model.evaluate(val_data, val_targets, verbose=0)\n",
        "    all_scores.append(val_mae)\n",
        "\n",
        "print(np.mean(all_scores))\n",
        "\n",
        "model = build_model()\n",
        "model.fit(train_data,train_targets,\n",
        "          epochs=80, batch_size=16, verbose=0,shuffle=True)\n",
        "validation_score = model.evaluate(test_data, test_targets)"
      ],
      "execution_count": null,
      "outputs": [
        {
          "output_type": "stream",
          "text": [
            "처리중인 폴드 # 0\n",
            "처리중인 폴드 # 1\n",
            "처리중인 폴드 # 2\n",
            "처리중인 폴드 # 3\n",
            "3.7853652238845825\n",
            "4/4 [==============================] - 0s 2ms/step - loss: 42.2240 - mae: 5.4348\n"
          ],
          "name": "stdout"
        }
      ]
    },
    {
      "cell_type": "code",
      "metadata": {
        "id": "jCVo6FVyFcaB",
        "outputId": "7a3d4f14-2daf-453e-c8bf-5b91051425e2",
        "colab": {
          "base_uri": "https://localhost:8080/"
        }
      },
      "source": [
        "import numpy as np\n",
        "import random\n",
        "(train_data, train_targets), (test_data, test_targets) = boston_housing.load_data(seed = random.randint(1,100))\n",
        "\n",
        "\n",
        "k = 4\n",
        "num_val_samples = len(train_data) // k\n",
        "num_epochs = 80\n",
        "all_scores = []\n",
        "for j in range(3):\n",
        "  (train_data, train_targets), (test_data, test_targets) = boston_housing.load_data(seed = random.randint(1,100))\n",
        "  for i in range(k):\n",
        "    print('처리중인 폴드 #', i)\n",
        "    # 검증 데이터 준비: k번째 분할\n",
        "    val_data = train_data[i * num_val_samples: (i + 1) * num_val_samples]\n",
        "    val_targets = train_targets[i * num_val_samples: (i + 1) * num_val_samples]\n",
        "\n",
        "    # 훈련 데이터 준비: 다른 분할 전체\n",
        "    partial_train_data = np.concatenate(\n",
        "        [train_data[:i * num_val_samples],\n",
        "         train_data[(i + 1) * num_val_samples:]],\n",
        "        axis=0)\n",
        "    partial_train_targets = np.concatenate(\n",
        "        [train_targets[:i * num_val_samples],\n",
        "         train_targets[(i + 1) * num_val_samples:]],\n",
        "        axis=0)\n",
        "\n",
        "    # 케라스 모델 구성(컴파일 포함)\n",
        "    model = build_model()\n",
        "    # 모델 훈련(verbose=0 이므로 훈련 과정이 출력되지 않습니다)\n",
        "    model.fit(partial_train_data, partial_train_targets,\n",
        "              epochs=num_epochs, batch_size=1, verbose=0, shuffle = False)\n",
        "    # 검증 세트로 모델 평가\n",
        "    val_mse, val_mae = model.evaluate(val_data, val_targets, verbose=0)\n",
        "    all_scores.append(val_mae)\n",
        "\n",
        "print(np.mean(all_scores))\n",
        "model = build_model()\n",
        "model.fit(train_data,train_targets,\n",
        "          epochs=80, batch_size=16, verbose=0,shuffle=True)\n",
        "validation_score = model.evaluate(test_data, test_targets)"
      ],
      "execution_count": null,
      "outputs": [
        {
          "output_type": "stream",
          "text": [
            "처리중인 폴드 # 0\n",
            "처리중인 폴드 # 1\n",
            "처리중인 폴드 # 2\n",
            "처리중인 폴드 # 3\n",
            "처리중인 폴드 # 0\n",
            "처리중인 폴드 # 1\n",
            "처리중인 폴드 # 2\n",
            "처리중인 폴드 # 3\n",
            "처리중인 폴드 # 0\n",
            "처리중인 폴드 # 1\n",
            "처리중인 폴드 # 2\n",
            "처리중인 폴드 # 3\n",
            "3.4889694849650064\n",
            "4/4 [==============================] - 0s 2ms/step - loss: 55.4296 - mae: 5.3284\n"
          ],
          "name": "stdout"
        }
      ]
    },
    {
      "cell_type": "code",
      "metadata": {
        "id": "YNz1uIxiUJ5W",
        "outputId": "64d92d13-9cbe-4024-a3f1-d8246ed600ef",
        "colab": {
          "base_uri": "https://localhost:8080/",
          "height": 226
        }
      },
      "source": [
        "(train_data, train_targets), (test_data, test_targets) = boston_housing.load_data()\n",
        "tmp = [[x,y] for x, y in zip(train_data, train_targets)]\n",
        "np.random.shuffle(tmp)\n",
        "\n",
        "train_data = [n[0] for n in tmp]\n",
        "train_targets = [n[1] for n in tmp]\n",
        "print(train_data.shape)\n",
        "print(train_targets.shape)\n"
      ],
      "execution_count": null,
      "outputs": [
        {
          "output_type": "error",
          "ename": "AttributeError",
          "evalue": "ignored",
          "traceback": [
            "\u001b[0;31m---------------------------------------------------------------------------\u001b[0m",
            "\u001b[0;31mAttributeError\u001b[0m                            Traceback (most recent call last)",
            "\u001b[0;32m<ipython-input-143-863abd823b59>\u001b[0m in \u001b[0;36m<module>\u001b[0;34m()\u001b[0m\n\u001b[1;32m      5\u001b[0m \u001b[0mtrain_data\u001b[0m \u001b[0;34m=\u001b[0m \u001b[0;34m[\u001b[0m\u001b[0mn\u001b[0m\u001b[0;34m[\u001b[0m\u001b[0;36m0\u001b[0m\u001b[0;34m]\u001b[0m \u001b[0;32mfor\u001b[0m \u001b[0mn\u001b[0m \u001b[0;32min\u001b[0m \u001b[0mtmp\u001b[0m\u001b[0;34m]\u001b[0m\u001b[0;34m\u001b[0m\u001b[0;34m\u001b[0m\u001b[0m\n\u001b[1;32m      6\u001b[0m \u001b[0mtrain_targets\u001b[0m \u001b[0;34m=\u001b[0m \u001b[0;34m[\u001b[0m\u001b[0mn\u001b[0m\u001b[0;34m[\u001b[0m\u001b[0;36m1\u001b[0m\u001b[0;34m]\u001b[0m \u001b[0;32mfor\u001b[0m \u001b[0mn\u001b[0m \u001b[0;32min\u001b[0m \u001b[0mtmp\u001b[0m\u001b[0;34m]\u001b[0m\u001b[0;34m\u001b[0m\u001b[0;34m\u001b[0m\u001b[0m\n\u001b[0;32m----> 7\u001b[0;31m \u001b[0mprint\u001b[0m\u001b[0;34m(\u001b[0m\u001b[0mtrain_data\u001b[0m\u001b[0;34m.\u001b[0m\u001b[0mshape\u001b[0m\u001b[0;34m)\u001b[0m\u001b[0;34m\u001b[0m\u001b[0;34m\u001b[0m\u001b[0m\n\u001b[0m\u001b[1;32m      8\u001b[0m \u001b[0mprint\u001b[0m\u001b[0;34m(\u001b[0m\u001b[0mtrain_targets\u001b[0m\u001b[0;34m.\u001b[0m\u001b[0mshape\u001b[0m\u001b[0;34m)\u001b[0m\u001b[0;34m\u001b[0m\u001b[0;34m\u001b[0m\u001b[0m\n",
            "\u001b[0;31mAttributeError\u001b[0m: 'list' object has no attribute 'shape'"
          ]
        }
      ]
    }
  ]
}