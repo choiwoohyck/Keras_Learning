{
  "nbformat": 4,
  "nbformat_minor": 0,
  "metadata": {
    "colab": {
      "name": "chapter2.ipynb",
      "provenance": [],
      "authorship_tag": "ABX9TyNmp8I8E4hiygZLXwG2Vtsg"
    },
    "kernelspec": {
      "name": "python3",
      "display_name": "Python 3"
    }
  },
  "cells": [
    {
      "cell_type": "code",
      "metadata": {
        "id": "aOZV7XYLK5Cd"
      },
      "source": [
        "from keras.datasets import mnist\n",
        "(train_images, train_labels), (test_images,test_labels) = mnist.load_data()"
      ],
      "execution_count": null,
      "outputs": []
    },
    {
      "cell_type": "code",
      "metadata": {
        "id": "TDA-fy70LjjW",
        "outputId": "adfe0e84-3230-4cb4-8a26-1bf7a9f7a0bd",
        "colab": {
          "base_uri": "https://localhost:8080/",
          "height": 35
        }
      },
      "source": [
        "train_images.shape #(60000,28,28)\n",
        "len(train_labels) # 60000\n",
        "test_images.shape #(10000, 28, 28)\n",
        "len(test_labels) #10000"
      ],
      "execution_count": null,
      "outputs": [
        {
          "output_type": "execute_result",
          "data": {
            "text/plain": [
              "10000"
            ]
          },
          "metadata": {
            "tags": []
          },
          "execution_count": 29
        }
      ]
    },
    {
      "cell_type": "code",
      "metadata": {
        "id": "7mmSzeaPMYc3"
      },
      "source": [
        "from keras import models\n",
        "from keras import layers\n",
        "\n",
        "network = models.Sequential()\n",
        "network.add(layers.Dense(512,activation='relu',input_shape=(28*28,)))\n",
        "network.add(layers.Dense(10,activation = 'softmax'))  #https://dsbook.tistory.com/59"
      ],
      "execution_count": null,
      "outputs": []
    },
    {
      "cell_type": "code",
      "metadata": {
        "id": "MCBhGqz7Q9oY"
      },
      "source": [
        "network.compile(optimizer='rmsprop',loss='categorical_crossentropy',metrics=['accuracy'])"
      ],
      "execution_count": null,
      "outputs": []
    },
    {
      "cell_type": "code",
      "metadata": {
        "id": "3oczkMmwROeV"
      },
      "source": [
        "train_images = train_images.reshape((60000, 28*28)) #원래 (60000 , 28 , 28)\n",
        "train_images = train_images.astype('float32') / 255 #이미지 전처리 과정 보통 이미지 픽셀의 최댓값인 255로 나눔\n",
        "\n",
        "test_images = test_images.reshape((10000, 28*28))\n",
        "test_images = test_images.astype('float32') / 255\n",
        "\n"
      ],
      "execution_count": null,
      "outputs": []
    },
    {
      "cell_type": "code",
      "metadata": {
        "id": "duF6jj6yTcaD"
      },
      "source": [
        "from keras.utils import to_categorical  #https://thebook.io/006975/part01/ch03/05/02-01/\n",
        "train_labels = to_categorical(train_labels)\n",
        "test_labels = to_categorical(test_labels)"
      ],
      "execution_count": null,
      "outputs": []
    },
    {
      "cell_type": "code",
      "metadata": {
        "id": "sBJwB2l0UG8u",
        "outputId": "f1cf47fd-9f0d-4f46-8046-32722ee9fb4c",
        "colab": {
          "base_uri": "https://localhost:8080/",
          "height": 217
        }
      },
      "source": [
        "network.fit(train_images,train_labels,epochs=5,batch_size=128)"
      ],
      "execution_count": null,
      "outputs": [
        {
          "output_type": "stream",
          "text": [
            "Epoch 1/5\n",
            "469/469 [==============================] - 5s 10ms/step - loss: 0.0284 - accuracy: 0.9917\n",
            "Epoch 2/5\n",
            "469/469 [==============================] - 5s 10ms/step - loss: 0.0217 - accuracy: 0.9935\n",
            "Epoch 3/5\n",
            "469/469 [==============================] - 5s 10ms/step - loss: 0.0163 - accuracy: 0.9955\n",
            "Epoch 4/5\n",
            "469/469 [==============================] - 4s 9ms/step - loss: 0.0129 - accuracy: 0.9966\n",
            "Epoch 5/5\n",
            "469/469 [==============================] - 4s 9ms/step - loss: 0.0098 - accuracy: 0.9976\n"
          ],
          "name": "stdout"
        },
        {
          "output_type": "execute_result",
          "data": {
            "text/plain": [
              "<tensorflow.python.keras.callbacks.History at 0x7f4522301be0>"
            ]
          },
          "metadata": {
            "tags": []
          },
          "execution_count": 38
        }
      ]
    },
    {
      "cell_type": "code",
      "metadata": {
        "id": "fxTJZP0rVySR",
        "outputId": "b7e173e6-1aaa-4f08-f5f2-cc7351f200bb",
        "colab": {
          "base_uri": "https://localhost:8080/",
          "height": 54
        }
      },
      "source": [
        "test_loss, test_acc = network.evaluate(test_images, test_labels)\n",
        "print('test_acc:',test_acc)"
      ],
      "execution_count": null,
      "outputs": [
        {
          "output_type": "stream",
          "text": [
            "313/313 [==============================] - 1s 2ms/step - loss: 0.0667 - accuracy: 0.9832\n",
            "test_acc: 0.9832000136375427\n"
          ],
          "name": "stdout"
        }
      ]
    },
    {
      "cell_type": "code",
      "metadata": {
        "id": "48M8bdKAY2-x"
      },
      "source": [
        "import numpy as np\n",
        "x = np.array(12) #스칼라 텐서의 축 개수 = 랭크 = 0"
      ],
      "execution_count": null,
      "outputs": []
    },
    {
      "cell_type": "code",
      "metadata": {
        "id": "meyegcvIZBG2",
        "outputId": "86f1457c-b4f3-4c13-90ec-88092b0a69f0",
        "colab": {
          "base_uri": "https://localhost:8080/",
          "height": 35
        }
      },
      "source": [
        "x = np.array([12,3,6,14,7]) ## 5D 벡터 , 1D 텐서\n",
        "x.ndim"
      ],
      "execution_count": null,
      "outputs": [
        {
          "output_type": "execute_result",
          "data": {
            "text/plain": [
              "1"
            ]
          },
          "metadata": {
            "tags": []
          },
          "execution_count": 43
        }
      ]
    },
    {
      "cell_type": "code",
      "metadata": {
        "id": "uKTcooH2ZYEY",
        "outputId": "3a05fcfb-9d90-4d27-e024-feebb620ffb1",
        "colab": {
          "base_uri": "https://localhost:8080/",
          "height": 35
        }
      },
      "source": [
        "x = np.array([[5,78,2,34,0],\n",
        "              [6,79,3,35,1],\n",
        "              [7,80,4,36,2]]) # 1행 5,78~ 1열 5,6,7\n",
        "x.ndim"
      ],
      "execution_count": null,
      "outputs": [
        {
          "output_type": "execute_result",
          "data": {
            "text/plain": [
              "2"
            ]
          },
          "metadata": {
            "tags": []
          },
          "execution_count": 44
        }
      ]
    },
    {
      "cell_type": "code",
      "metadata": {
        "id": "XwUJpJEuZvST"
      },
      "source": [
        "x = np.array([[[5,78,2,34,0],\n",
        "               [6,79,3,35,1],\n",
        "               [7,80,4,36,2]],\n",
        "               [[5,78,2,34,0],\n",
        "                [6,79,3,35,1],\n",
        "                [7,80,4,36,2]],\n",
        "              [[5,78,2,34,0],\n",
        "               [6,79,3,35,1],\n",
        "               [7,80,4,36,2]]])"
      ],
      "execution_count": null,
      "outputs": []
    },
    {
      "cell_type": "code",
      "metadata": {
        "id": "PbeIN8VpaNmY",
        "outputId": "4df84dfd-bf3a-47cf-fe6b-55dfacda7758",
        "colab": {
          "base_uri": "https://localhost:8080/",
          "height": 72
        }
      },
      "source": [
        "from keras.datasets import mnist\n",
        "(train_images,train_labels), (test_images, test_labels) = mnist.load_data()\n",
        "print(train_images.ndim) #3\n",
        "print(train_images.shape) #(60000,28,28)\n",
        "print(train_images.dtype) # uint8"
      ],
      "execution_count": null,
      "outputs": [
        {
          "output_type": "stream",
          "text": [
            "3\n",
            "(60000, 28, 28)\n",
            "uint8\n"
          ],
          "name": "stdout"
        }
      ]
    },
    {
      "cell_type": "code",
      "metadata": {
        "id": "aCTX-cneajh6",
        "outputId": "975b6b33-c760-44c2-e43f-20220fb9f1aa",
        "colab": {
          "base_uri": "https://localhost:8080/",
          "height": 265
        }
      },
      "source": [
        "digit = train_images[4]\n",
        "\n",
        "import matplotlib.pyplot as plt\n",
        "plt.imshow(digit,cmap=plt.cm.binary) # 컬러맵 다양한 컬러 가능\n",
        "plt.show()"
      ],
      "execution_count": null,
      "outputs": [
        {
          "output_type": "display_data",
          "data": {
            "image/png": "[encoded data removed]",
            "text/plain": [
              "<Figure size 432x288 with 1 Axes>"
            ]
          },
          "metadata": {
            "tags": [],
            "needs_background": "light"
          }
        }
      ]
    },
    {
      "cell_type": "code",
      "metadata": {
        "id": "IgNuGo-mbxFA",
        "outputId": "1b063af7-db61-42be-fd86-f7efbbb955aa",
        "colab": {
          "base_uri": "https://localhost:8080/",
          "height": 54
        }
      },
      "source": [
        "my_slice = train_images[10:100]\n",
        "print(my_slice.shape) # (90,28,28)\n",
        "my_slice = train_images[10:100,0:28,0:28]\n",
        "my_slice.shape\n",
        "\n",
        "my_slice = train_images[:,14:,14:]\n",
        "my_slice = train_images[:,7:-7,7:-7]\n",
        "my_slice.shape"
      ],
      "execution_count": null,
      "outputs": [
        {
          "output_type": "stream",
          "text": [
            "(90, 28, 28)\n"
          ],
          "name": "stdout"
        },
        {
          "output_type": "execute_result",
          "data": {
            "text/plain": [
              "(60000, 14, 14)"
            ]
          },
          "metadata": {
            "tags": []
          },
          "execution_count": 56
        }
      ]
    },
    {
      "cell_type": "code",
      "metadata": {
        "id": "jTKYUfr6c83N"
      },
      "source": [
        ""
      ],
      "execution_count": null,
      "outputs": []
    }
  ]
}