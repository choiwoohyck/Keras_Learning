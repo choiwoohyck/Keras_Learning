{
  "nbformat": 4,
  "nbformat_minor": 0,
  "metadata": {
    "colab": {
      "name": "chapter2.ipynb",
      "provenance": [],
      "authorship_tag": "ABX9TyMPgvAhzDOAKzyZ5vWmHtbC"
    },
    "kernelspec": {
      "name": "python3",
      "display_name": "Python 3"
    }
  },
  "cells": [
    {
      "cell_type": "code",
      "metadata": {
        "id": "aOZV7XYLK5Cd"
      },
      "source": [
        "from keras.datasets import mnist\n",
        "(train_images, train_labels), (test_images,test_labels) = mnist.load_data()"
      ],
      "execution_count": 5,
      "outputs": []
    },
    {
      "cell_type": "code",
      "metadata": {
        "id": "TDA-fy70LjjW",
        "outputId": "960a879a-118a-49d8-b819-2d80bf345459",
        "colab": {
          "base_uri": "https://localhost:8080/",
          "height": 35
        }
      },
      "source": [
        "train_images.shape #(60000,28,28)\n",
        "len(train_labels) # 60000\n",
        "test_images.shape #(10000, 28, 28)\n",
        "len(test_labels) #10000"
      ],
      "execution_count": 6,
      "outputs": [
        {
          "output_type": "execute_result",
          "data": {
            "text/plain": [
              "10000"
            ]
          },
          "metadata": {
            "tags": []
          },
          "execution_count": 6
        }
      ]
    },
    {
      "cell_type": "code",
      "metadata": {
        "id": "7mmSzeaPMYc3"
      },
      "source": [
        "from keras import models\n",
        "from keras import layers\n",
        "\n",
        "network = models.Sequential()\n",
        "network.add(layers.Dense(512,activation='relu',input_shape=(28*28,)))\n",
        "network.add(layers.Dense(10,activation = 'softmax'))  #https://dsbook.tistory.com/59"
      ],
      "execution_count": 7,
      "outputs": []
    },
    {
      "cell_type": "code",
      "metadata": {
        "id": "MCBhGqz7Q9oY"
      },
      "source": [
        "network.compile(optimizer='rmsprop',loss='categorical_crossentropy',metrics=['accuracy'])"
      ],
      "execution_count": 8,
      "outputs": []
    },
    {
      "cell_type": "code",
      "metadata": {
        "id": "3oczkMmwROeV"
      },
      "source": [
        "train_images = train_images.reshape((60000, 28*28)) #원래 (60000 , 28 , 28)\n",
        "train_images = train_images.astype('float32') / 255 #이미지 전처리 과정 보통 이미지 픽셀의 최댓값인 255로 나눔\n",
        "\n",
        "test_images = test_images.reshape((10000, 28*28))\n",
        "test_images = test_images.astype('float32') / 255\n",
        "\n"
      ],
      "execution_count": 9,
      "outputs": []
    },
    {
      "cell_type": "code",
      "metadata": {
        "id": "duF6jj6yTcaD"
      },
      "source": [
        "from keras.utils import to_categorical  #https://thebook.io/006975/part01/ch03/05/02-01/\n",
        "train_labels = to_categorical(train_labels)\n",
        "test_labels = to_categorical(test_labels)"
      ],
      "execution_count": 10,
      "outputs": []
    },
    {
      "cell_type": "code",
      "metadata": {
        "id": "sBJwB2l0UG8u",
        "outputId": "510c61fc-1d53-4da7-8f34-2df38ac9e22f",
        "colab": {
          "base_uri": "https://localhost:8080/",
          "height": 217
        }
      },
      "source": [
        "network.fit(train_images,train_labels,epochs=5,batch_size=128)"
      ],
      "execution_count": 11,
      "outputs": [
        {
          "output_type": "stream",
          "text": [
            "Epoch 1/5\n",
            "469/469 [==============================] - 4s 9ms/step - loss: 0.2577 - accuracy: 0.9255\n",
            "Epoch 2/5\n",
            "469/469 [==============================] - 4s 9ms/step - loss: 0.1040 - accuracy: 0.9692\n",
            "Epoch 3/5\n",
            "469/469 [==============================] - 4s 9ms/step - loss: 0.0695 - accuracy: 0.9787\n",
            "Epoch 4/5\n",
            "469/469 [==============================] - 4s 8ms/step - loss: 0.0501 - accuracy: 0.9856\n",
            "Epoch 5/5\n",
            "469/469 [==============================] - 4s 9ms/step - loss: 0.0382 - accuracy: 0.9882\n"
          ],
          "name": "stdout"
        },
        {
          "output_type": "execute_result",
          "data": {
            "text/plain": [
              "<tensorflow.python.keras.callbacks.History at 0x7f36d7e04cf8>"
            ]
          },
          "metadata": {
            "tags": []
          },
          "execution_count": 11
        }
      ]
    },
    {
      "cell_type": "code",
      "metadata": {
        "id": "fxTJZP0rVySR",
        "outputId": "610d8d1a-2706-40a4-fead-1b6b6f10b0d1",
        "colab": {
          "base_uri": "https://localhost:8080/",
          "height": 54
        }
      },
      "source": [
        "test_loss, test_acc = network.evaluate(test_images, test_labels)\n",
        "print('test_acc:',test_acc)"
      ],
      "execution_count": 12,
      "outputs": [
        {
          "output_type": "stream",
          "text": [
            "313/313 [==============================] - 1s 2ms/step - loss: 0.0698 - accuracy: 0.9794\n",
            "test_acc: 0.9793999791145325\n"
          ],
          "name": "stdout"
        }
      ]
    },
    {
      "cell_type": "code",
      "metadata": {
        "id": "48M8bdKAY2-x"
      },
      "source": [
        "import numpy as np\n",
        "x = np.array(12) #스칼라 텐서의 축 개수 = 랭크 = 0"
      ],
      "execution_count": 13,
      "outputs": []
    },
    {
      "cell_type": "code",
      "metadata": {
        "id": "meyegcvIZBG2",
        "outputId": "321b5d1f-2f37-4a6b-d669-33dd22fa5423",
        "colab": {
          "base_uri": "https://localhost:8080/",
          "height": 35
        }
      },
      "source": [
        "x = np.array([12,3,6,14,7]) ## 5D 벡터 , 1D 텐서\n",
        "x.ndim"
      ],
      "execution_count": 14,
      "outputs": [
        {
          "output_type": "execute_result",
          "data": {
            "text/plain": [
              "1"
            ]
          },
          "metadata": {
            "tags": []
          },
          "execution_count": 14
        }
      ]
    },
    {
      "cell_type": "code",
      "metadata": {
        "id": "uKTcooH2ZYEY",
        "outputId": "4d22cb94-f39e-4635-ba3e-7f172f68b029",
        "colab": {
          "base_uri": "https://localhost:8080/",
          "height": 209
        }
      },
      "source": [
        "x = np.array([[5,78,2,34,0],\n",
        "              [6,79,3,35,1],\n",
        "              [7,80,4,36,2]]) # 1행 5,78~ 1열 5,6,7\n",
        "x.ndim"
      ],
      "execution_count": 27,
      "outputs": [
        {
          "output_type": "error",
          "ename": "IndexError",
          "evalue": "ignored",
          "traceback": [
            "\u001b[0;31m---------------------------------------------------------------------------\u001b[0m",
            "\u001b[0;31mIndexError\u001b[0m                                Traceback (most recent call last)",
            "\u001b[0;32m<ipython-input-27-c5f1444b9c3b>\u001b[0m in \u001b[0;36m<module>\u001b[0;34m()\u001b[0m\n\u001b[1;32m      2\u001b[0m               \u001b[0;34m[\u001b[0m\u001b[0;36m6\u001b[0m\u001b[0;34m,\u001b[0m\u001b[0;36m79\u001b[0m\u001b[0;34m,\u001b[0m\u001b[0;36m3\u001b[0m\u001b[0;34m,\u001b[0m\u001b[0;36m35\u001b[0m\u001b[0;34m,\u001b[0m\u001b[0;36m1\u001b[0m\u001b[0;34m]\u001b[0m\u001b[0;34m,\u001b[0m\u001b[0;34m\u001b[0m\u001b[0;34m\u001b[0m\u001b[0m\n\u001b[1;32m      3\u001b[0m               [7,80,4,36,2]]) # 1행 5,78~ 1열 5,6,7\n\u001b[0;32m----> 4\u001b[0;31m \u001b[0mx\u001b[0m\u001b[0;34m.\u001b[0m\u001b[0mshape\u001b[0m\u001b[0;34m[\u001b[0m\u001b[0;36m2\u001b[0m\u001b[0;34m]\u001b[0m\u001b[0;34m\u001b[0m\u001b[0;34m\u001b[0m\u001b[0m\n\u001b[0m",
            "\u001b[0;31mIndexError\u001b[0m: tuple index out of range"
          ]
        }
      ]
    },
    {
      "cell_type": "code",
      "metadata": {
        "id": "XwUJpJEuZvST"
      },
      "source": [
        "x = np.array([[[5,78,2,34,0],\n",
        "               [6,79,3,35,1],\n",
        "               [7,80,4,36,2]],\n",
        "               [[5,78,2,34,0],\n",
        "                [6,79,3,35,1],\n",
        "                [7,80,4,36,2]],\n",
        "              [[5,78,2,34,0],\n",
        "               [6,79,3,35,1],\n",
        "               [7,80,4,36,2]]])"
      ],
      "execution_count": 16,
      "outputs": []
    },
    {
      "cell_type": "code",
      "metadata": {
        "id": "PbeIN8VpaNmY",
        "outputId": "89ce1b2f-eeb6-4c28-d30a-87bf69865971",
        "colab": {
          "base_uri": "https://localhost:8080/",
          "height": 72
        }
      },
      "source": [
        "from keras.datasets import mnist\n",
        "(train_images,train_labels), (test_images, test_labels) = mnist.load_data()\n",
        "print(train_images.ndim) #3\n",
        "print(train_images.shape) #(60000,28,28)\n",
        "print(train_images.dtype) # uint8"
      ],
      "execution_count": 17,
      "outputs": [
        {
          "output_type": "stream",
          "text": [
            "3\n",
            "(60000, 28, 28)\n",
            "uint8\n"
          ],
          "name": "stdout"
        }
      ]
    },
    {
      "cell_type": "code",
      "metadata": {
        "id": "aCTX-cneajh6",
        "outputId": "a7168a35-65fa-429f-9a6e-bf311928ecdf",
        "colab": {
          "base_uri": "https://localhost:8080/",
          "height": 265
        }
      },
      "source": [
        "digit = train_images[4]\n",
        "\n",
        "import matplotlib.pyplot as plt\n",
        "plt.imshow(digit,cmap=plt.cm.binary) # 컬러맵 다양한 컬러 가능\n",
        "plt.show()"
      ],
      "execution_count": 18,
      "outputs": [
        {
          "output_type": "display_data",
          "data": {
            "image/png": "[encoded data removed]",
            "text/plain": [
              "<Figure size 432x288 with 1 Axes>"
            ]
          },
          "metadata": {
            "tags": [],
            "needs_background": "light"
          }
        }
      ]
    },
    {
      "cell_type": "code",
      "metadata": {
        "id": "IgNuGo-mbxFA",
        "outputId": "cacf8412-adae-4b9c-b968-5273864b03d7",
        "colab": {
          "base_uri": "https://localhost:8080/",
          "height": 54
        }
      },
      "source": [
        "my_slice = train_images[10:100]\n",
        "print(my_slice.shape) # (90,28,28)\n",
        "my_slice = train_images[10:100,0:28,0:28]\n",
        "my_slice.shape\n",
        "\n",
        "my_slice = train_images[:,14:,14:]\n",
        "my_slice = train_images[:,7:-7,7:-7]\n",
        "my_slice.shape"
      ],
      "execution_count": 19,
      "outputs": [
        {
          "output_type": "stream",
          "text": [
            "(90, 28, 28)\n"
          ],
          "name": "stdout"
        },
        {
          "output_type": "execute_result",
          "data": {
            "text/plain": [
              "(60000, 14, 14)"
            ]
          },
          "metadata": {
            "tags": []
          },
          "execution_count": 19
        }
      ]
    },
    {
      "cell_type": "code",
      "metadata": {
        "id": "jTKYUfr6c83N"
      },
      "source": [
        "def naive_relu(x):\n",
        "  assert len(x.shape) # https://wikidocs.net/21050\n",
        "\n",
        "  x = x.copy()\n",
        "  for i in range(x.shape[0]):\n",
        "    x[i,j] = max(x[i,j],0)\n",
        "  return x"
      ],
      "execution_count": 23,
      "outputs": []
    },
    {
      "cell_type": "code",
      "metadata": {
        "id": "5Iy2PlKp20RQ"
      },
      "source": [
        "def naive_add(x, y):\n",
        "  assert len(x.shape) == 2\n",
        "  assert x.shape == y.shape\n",
        "\n",
        "  x = x.copy()\n",
        "  for i in range(x.shaep[0]):\n",
        "    for j in range(x.shape[1]):\n",
        "      x[i, j] += y[i,j]\n",
        "  return x"
      ],
      "execution_count": 24,
      "outputs": []
    },
    {
      "cell_type": "code",
      "metadata": {
        "id": "fTs3_tNq3-Pw"
      },
      "source": [
        "def naive_add_matrix_and_vector(x,y):\n",
        "  assert len(x.shape) == 2\n",
        "  assert len(y.shape) == 1\n",
        "  assert x.shape[1] == y.shape[0]\n",
        "\n",
        "  x = x.copy()\n",
        "  for i in range(x.shape[0]):\n",
        "    for j in range(x.shape[1]):\n",
        "      x[i, j] += y[j]\n",
        "  return x"
      ],
      "execution_count": null,
      "outputs": []
    },
    {
      "cell_type": "code",
      "metadata": {
        "id": "oajGfjtj4p0w"
      },
      "source": [
        "def native_vector_dot(x,y):\n",
        "  assert len(x.shape) == 1\n",
        "  assert len(y.shape) == 1\n",
        "  assert x.shape[0] == y.shape[0]\n",
        "\n",
        "  z = 0.\n",
        "  for i in range(x.shape[0]):\n",
        "    z += x[i] * y[i]\n",
        "  return z"
      ],
      "execution_count": 28,
      "outputs": []
    },
    {
      "cell_type": "code",
      "metadata": {
        "id": "ZSDpi3-a5Kye"
      },
      "source": [
        "import numpy as np\n",
        "def naive_matrix_vector_dot(x,y):\n",
        "  assert len(x.shape) == 2\n",
        "  assert len(y.shape) == 1\n",
        "  assert x.shape[1] == y.shape[0]\n",
        "\n",
        "  z = np.zeros(x.shape[0])\n",
        "  for i in range(x.shape[0]):\n",
        "    for j in range(x.shape[1]):\n",
        "      z[i] += x[i,j] * y[j]\n",
        "  return zip\n",
        "\n",
        "def naive_matrix_vector_dot(x,y):\n",
        "  z = np.zeros(x.shape[0])\n",
        "  for i in range(x.shape[0]):\n",
        "    z[i] = naive_vector_dot(x[i,:],y)\n",
        "  return z\n",
        "\n",
        "def naive_matrix_dot(x,y):\n",
        "  assert len(x.shape) == 2\n",
        "  assert len(y.shape) == 2\n",
        "  assert x.shape[1] == y.shape[0]\n",
        "\n",
        "  z = np.zeros((x.shape[0],y.shape[1]))\n",
        "  for i in range(x.shape[0]):\n",
        "    for j in range(y.shape[1]):\n",
        "      row_x = x[i,:]\n",
        "      column_y = y[:,j]\n",
        "      z[i,j] = naive_vector_dot(row_x,column_y)\n",
        "  return z"
      ],
      "execution_count": 30,
      "outputs": []
    },
    {
      "cell_type": "code",
      "metadata": {
        "id": "4kyWEV_27xHl",
        "outputId": "80b1f15f-e2ba-4c89-ee6e-60caf9e37ef7",
        "colab": {
          "base_uri": "https://localhost:8080/",
          "height": 199
        }
      },
      "source": [
        "x = np.array([[0., 1.],\n",
        "              [2., 3.],\n",
        "              [4.,5.]])\n",
        "print(x.shape)\n",
        "x = x.reshape((6,1))\n",
        "print(x)\n",
        "x = x.reshape((2,3))\n",
        "print(x)\n",
        "\n",
        "x = np.zeros((300,20))\n",
        "x = np.transpose(x)\n",
        "print(x.shape)"
      ],
      "execution_count": 34,
      "outputs": [
        {
          "output_type": "stream",
          "text": [
            "(3, 2)\n",
            "[[0.]\n",
            " [1.]\n",
            " [2.]\n",
            " [3.]\n",
            " [4.]\n",
            " [5.]]\n",
            "[[0. 1. 2.]\n",
            " [3. 4. 5.]]\n",
            "(20, 300)\n"
          ],
          "name": "stdout"
        }
      ]
    }
  ]
}